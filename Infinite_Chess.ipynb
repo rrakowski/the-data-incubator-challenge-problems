{
 "cells": [
  {
   "cell_type": "code",
   "execution_count": 69,
   "metadata": {},
   "outputs": [],
   "source": [
    "## Notebook to compute knight-move problem on infinitive chess quandrant\n",
    "# Aug 2020 by Rafal Rakowski\n",
    "\n",
    "# Set working environment\n",
    "from __future__ import print_function\n",
    "import numpy as np\n",
    "from runstat import RunStat\n",
    "import random \n",
    "from math import sqrt"
   ]
  },
  {
   "cell_type": "code",
   "execution_count": 122,
   "metadata": {},
   "outputs": [
    {
     "name": "stdout",
     "output_type": "stream",
     "text": [
      "13.72997408574743646879480344\n",
      "8.707730978879491649948814418\n",
      "13.72997524264589685847640480\n",
      "8.707731030187939417599226575\n",
      "13.72997476740376537441258133\n",
      "8.707730396544945389581907358\n"
     ]
    }
   ],
   "source": [
    "\"\"\" To showcase the use of dynamic programming call RunStat implementation of Welford's online algorithm\n",
    "    to calculate running standard deviation - imported from: https://github.com/ewiger/runstat \n",
    "\"\"\"\n",
    "rs = RunStat()\n",
    "\n",
    "# Set boundaries of play\n",
    "moves_no = 100 \n",
    "repetition_count = 0\n",
    "repetition_no = 2e7 \n",
    "\n",
    "# Initialize output data lists\n",
    "L_mean_10_cum = 0\n",
    "L_std_10_cum  = 0\n",
    "L_mean_100_cum = 0\n",
    "L_std_100_cum  = 0\n",
    "L_mean_10_cum_cond = 0\n",
    "L_std_10_cum_cond = 0\n",
    "counter = 0\n",
    "\n",
    "# Set nested iterations of 100 moves (moves_no) repeated by a big number (repetition_no) times\n",
    "while repetition_count <= repetition_no:\n",
    "    repetition_count  += 1 \n",
    "    \n",
    "# reset running statistics between plays    \n",
    "    rs.reset \n",
    "    move_count = 1\n",
    "    \n",
    "# Get initial position \n",
    "    X, Y = 0, 0\n",
    "    while move_count <= moves_no:\n",
    "        \n",
    "# Set initial condition for min distance within 10 moves\n",
    "        cond = False \n",
    "    \n",
    "# Differentiate conditions depending on the knigt position \n",
    "        if    X >= 2:\n",
    "              variant_X = [-2, -1, 1, 2]\n",
    "        elif  X == 1:\n",
    "              variant_X = [-1, 1, 2]    \n",
    "        elif  X == 0:\n",
    "              variant_X = [1, 2] \n",
    "\n",
    "        if    Y >= 2:\n",
    "              variant_Y = [-2, -1, 1, 2]\n",
    "        elif  Y == 1:\n",
    "              variant_Y = [-1, 1, 2]    \n",
    "        elif  Y == 0:\n",
    "              variant_Y = [1, 2]  \n",
    "                \n",
    "# Calculate move options given a position\n",
    "        options_list = []\n",
    "        for X_move in variant_X:\n",
    "            for Y_move in variant_Y:\n",
    "                if  abs(Y_move) != abs(X_move):  \n",
    "                    options_list.append([X + X_move, Y + Y_move])\n",
    "# Randomly select a possible move\n",
    "        random_new_position = random.choice(options_list) \n",
    "    \n",
    "# Clculate distance   \n",
    "        X, Y = random_new_position[0], random_new_position[1]\n",
    "        L = sqrt(random_new_position[0]**2 + random_new_position[1]**2)\n",
    "        \n",
    "# Compute running distance-mean and its standard deviation\n",
    "        rs(L)\n",
    "    \n",
    "# Check if condition is satisfied\n",
    "        if move_count >= 5 and move_count <= 10:  \n",
    "            if  (random_new_position[0]==8 and random_new_position[1] == 6) or (random_new_position[0]==6 and random_new_position[1] == 8) or      (random_new_position[0]==9 and random_new_position[1] == 5) or (random_new_position[0]== 5 and random_new_position[1] == 9) or  (random_new_position[0]== 10 and random_new_position[1] == 0) or (random_new_position[0]== 0 and random_new_position[1] == 10):\n",
    "                cond = True\n",
    "                \n",
    "# Estimate mean distance and standard deviation after 10 moves and append it to list for further averaging      \n",
    "        if  move_count == 10:\n",
    "            L_mean_10 = rs.mean\n",
    "            L_mean_10_cum = L_mean_10_cum + L_mean_10\n",
    "            L_std_10  = rs.std\n",
    "            L_std_10_cum = L_std_10_cum + L_std_10\n",
    "            \n",
    "# After 10 moves and if condition is true append mean distance and standard deviation to list for further averaging \n",
    "            if cond:\n",
    "                L_mean_10_cum_cond = L_mean_10_cum_cond + L_mean_10   \n",
    "                L_std_10_cum_cond = L_std_10_cum_cond + L_std_10\n",
    "                counter += 1\n",
    "                \n",
    "# Estimate mean distance and standard deviation after 100 moves and append it to list for further averaging   \n",
    "        if  move_count == 100:\n",
    "            L_mean_100 = rs.mean\n",
    "            L_mean_100_cum = L_mean_100_cum + L_mean_100\n",
    "            L_std_100  = rs.std\n",
    "            L_std_100_cum= L_std_100_cum + L_std_100     \n",
    "        move_count += 1\n",
    "        \n",
    "# Get asked metrics from the big lists for distance means and deviations for 10, 100 and conditioned@10 moves        \n",
    "L_mean_10_cum = L_mean_10_cum/repetition_count \n",
    "L_std_10_cum = L_std_10_cum/repetition_count \n",
    "L_mean_100_cum = L_mean_100_cum/repetition_count \n",
    "L_std_100_cum = L_std_100_cum/repetition_count \n",
    "L_mean_10_cum_cond = L_mean_10_cum_cond/counter\n",
    "L_std_10_cum_cond = L_std_10_cum_cond/counter\n",
    "print (\"Expected distance after 10 moves is : \" + str(L_mean_10_cum))\n",
    "print (\"Expected std of distance after 10 moves is : \" + str(L_std_10_cum))\n",
    "print (\"Expected distance after 100 moves is : \" + str(L_mean_100_cum))\n",
    "print (\"Expected std of distance after 100 moves is : \" + str(L_std_100_cum))\n",
    "print (\"Expected conditioned distance after 10 moves is : \" + str(L_mean_10_cum_cond))\n",
    "print (\"Expected conditioned std of distance after 10 moves is : \" + str(L_std_10_cum_cond))"
   ]
  },
  {
   "cell_type": "code",
   "execution_count": 87,
   "metadata": {},
   "outputs": [
    {
     "name": "stdout",
     "output_type": "stream",
     "text": [
      "0.4788624591486562054321041160\n",
      "0.380869388833670274863152371835894882678985595703125\n"
     ]
    }
   ],
   "source": [
    "\"\"\"\" To showcase the use of dynamic programming call RunStat implementation of Welford's online algorithm\n",
    "     to calculate running standard deviation - imported from: https://github.com/ewiger/runstat \n",
    "\"\"\"\n",
    "rs.reset\n",
    "\n",
    "\n",
    "\n",
    "\n",
    "\n",
    "rs = RunStat()\n",
    "\n",
    "X = np.random.rand(10)\n",
    "for x in X:\n",
    "    rs(x)\n",
    "    \n",
    "print(rs.mean)\n",
    "print(rs.std)"
   ]
  },
  {
   "cell_type": "code",
   "execution_count": null,
   "metadata": {},
   "outputs": [],
   "source": [
    "\n",
    "moves_no = 100 # 100\n",
    "repetition_count = 1\n",
    "\"\"\"\" To showcase the use of dynamic programming call RunStat implementation of Welford's online algorithm\n",
    "     to calculate running standard deviation - imported from: https://github.com/ewiger/runstat \n",
    "\"\"\"\n",
    "rs = RunStat()\n",
    "L_mean_10_cum = 0\n",
    "L_std_10_cum  = 0\n",
    "L_mean_100_cum = 0\n",
    "L_std_100_cum  = 0\n",
    "\n",
    "repetition_no = 2e6 #1e6\n",
    "while repetition_count <= repetition_no:\n",
    "    repetition_count  += 1 \n",
    "    rs.reset\n",
    "    move_count = 1\n",
    "    while move_count <= moves_no:\n",
    "        \n",
    "        \n",
    "    \n",
    "    \n",
    "         # Get initial position\n",
    "        X, Y = 0, 1\n",
    "\n",
    "        if    X >= 2:\n",
    "              variant_X = [-2, -1, 1, 2]\n",
    "        elif  X == 1:\n",
    "              variant_X = [-1, 1, 2]    \n",
    "        elif  X == 0:\n",
    "              variant_X = [1, 2] \n",
    "\n",
    "        if    Y >= 2:\n",
    "              variant_Y = [-2, -1, 1, 2]\n",
    "        elif  Y == 1:\n",
    "              variant_Y = [-1, 1, 2]    \n",
    "        elif  Y == 0:\n",
    "              variant_Y = [1, 2]          \n",
    "\n",
    "        options_list = []\n",
    "        for X_move in variant_X:\n",
    "            for Y_move in variant_Y:\n",
    "                if  abs(Y_move) != abs(X_move):  \n",
    "                    options_list.append([X + X_move, Y + Y_move])\n",
    "                             \n",
    "        random_new_position = random.choice(options_list) \n",
    "        print (\"Random selected number is : \" + str(random_new_position))   \n",
    "        L = sqrt(random_new_position[0]**2 + new_random_position[1]**2)\n",
    "        rs(L)\n",
    "        print (rs.mean)\n",
    "        print (rs.std)"
   ]
  },
  {
   "cell_type": "code",
   "execution_count": 109,
   "metadata": {},
   "outputs": [
    {
     "data": {
      "text/plain": [
       "3240"
      ]
     },
     "execution_count": 109,
     "metadata": {},
     "output_type": "execute_result"
    }
   ],
   "source": [
    "360*9\n",
    "\n",
    "    "
   ]
  },
  {
   "cell_type": "code",
   "execution_count": 2,
   "metadata": {},
   "outputs": [
    {
     "name": "stdout",
     "output_type": "stream",
     "text": [
      "Random selected number is : 3.444\n"
     ]
    }
   ],
   "source": [
    "print (\"Random selected number is : \" + str(3.444))"
   ]
  }
 ],
 "metadata": {
  "kernelspec": {
   "display_name": "Python 3",
   "language": "python",
   "name": "python3"
  },
  "language_info": {
   "codemirror_mode": {
    "name": "ipython",
    "version": 3
   },
   "file_extension": ".py",
   "mimetype": "text/x-python",
   "name": "python",
   "nbconvert_exporter": "python",
   "pygments_lexer": "ipython3",
   "version": "3.7.4"
  }
 },
 "nbformat": 4,
 "nbformat_minor": 2
}
