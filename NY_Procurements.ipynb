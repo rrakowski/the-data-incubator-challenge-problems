{
 "cells": [
  {
   "cell_type": "code",
   "execution_count": 161,
   "metadata": {},
   "outputs": [],
   "source": [
    "## Notebook to compute answers to NYC procurement challenge\n",
    "#  Aug 2020 by Rafal Rakowski\n",
    "\n",
    "# Prepare compute environment\n",
    "import pandas as pd\n",
    "from pandas import read_html\n",
    "import numpy as np\n",
    "import csv\n",
    "from operator import truediv \n",
    "import datetime\n",
    "from datetime import date\n",
    "from pandas import Series,DataFrame\n",
    "import matplotlib.pyplot as plt\n",
    "import seaborn as sns\n",
    "%matplotlib inline"
   ]
  },
  {
   "cell_type": "code",
   "execution_count": 162,
   "metadata": {},
   "outputs": [],
   "source": [
    "# Read in data with csv API\n",
    "Procurement_data = []\n",
    "with open ('Recent_Contract_Awards.csv', 'r') as f:\n",
    "    reader = csv.DictReader(f)\n",
    "    for row in reader:\n",
    "        Procurement_data.append(row)\n",
    " "
   ]
  },
  {
   "cell_type": "code",
   "execution_count": 163,
   "metadata": {},
   "outputs": [],
   "source": [
    "# Procurement_data[0]"
   ]
  },
  {
   "cell_type": "code",
   "execution_count": 114,
   "metadata": {},
   "outputs": [],
   "source": [
    "# df = pd.DataFrame(Procurement_data, columns = list(Procurement_data[:][0]))  \n",
    "# print(df)"
   ]
  },
  {
   "cell_type": "code",
   "execution_count": 115,
   "metadata": {},
   "outputs": [],
   "source": [
    "# df.info()"
   ]
  },
  {
   "cell_type": "code",
   "execution_count": 164,
   "metadata": {},
   "outputs": [],
   "source": [
    "# Coerce the 'StartDate' & 'EndDate' fields to datetime format \n",
    "df['StartDate']  = df['StartDate'].astype('datetime64[ns]')\n",
    "df.dropna(subset = ['StartDate'], inplace=True)\n",
    "\n",
    "# Time boundaries\n",
    "start_date = \"2010-01-01\"\n",
    "end_date   = \"2019-12-31\"\n",
    "\n",
    "# Filter data by dates\n",
    "after_start_date = df[\"StartDate\"] >= start_date \n",
    "before_end_date  = df[\"StartDate\"] <= end_date\n",
    "inbetween        = after_start_date & before_end_date\n",
    "filtered_df      = df.loc[inbetween]\n",
    "cleaned_df       = filtered_df "
   ]
  },
  {
   "cell_type": "code",
   "execution_count": 165,
   "metadata": {},
   "outputs": [
    {
     "name": "stdout",
     "output_type": "stream",
     "text": [
      "The total contract amount is: 207783993424.84\n"
     ]
    },
    {
     "name": "stderr",
     "output_type": "stream",
     "text": [
      "/Applications/anaconda3/lib/python3.7/site-packages/ipykernel_launcher.py:2: SettingWithCopyWarning: \n",
      "A value is trying to be set on a copy of a slice from a DataFrame.\n",
      "Try using .loc[row_indexer,col_indexer] = value instead\n",
      "\n",
      "See the caveats in the documentation: http://pandas.pydata.org/pandas-docs/stable/user_guide/indexing.html#returning-a-view-versus-a-copy\n",
      "  \n"
     ]
    }
   ],
   "source": [
    "# Compute total sum of contracts\n",
    "cleaned_df['ContractAmount'] = pd.to_numeric(cleaned_df['ContractAmount'])\n",
    "sum = cleaned_df['ContractAmount'].sum() \n",
    "print (\"The total contract amount is: \" + str(sum))"
   ]
  },
  {
   "cell_type": "code",
   "execution_count": 166,
   "metadata": {},
   "outputs": [
    {
     "name": "stderr",
     "output_type": "stream",
     "text": [
      "/Applications/anaconda3/lib/python3.7/site-packages/ipykernel_launcher.py:2: SettingWithCopyWarning: \n",
      "A value is trying to be set on a copy of a slice from a DataFrame\n",
      "\n",
      "See the caveats in the documentation: http://pandas.pydata.org/pandas-docs/stable/user_guide/indexing.html#returning-a-view-versus-a-copy\n",
      "  \n"
     ]
    }
   ],
   "source": [
    "cleaned_df.where(cleaned_df['AgencyName']=='Citywide Administrative Services', other=np.nan, inplace=True)\n",
    "cleaned_df.dropna(subset = ['AgencyName'], inplace=True)\n",
    "vendor = cleaned_df.groupby('VendorName')\n",
    "vendor_amount = vendor.agg('sum')\n",
    "vendor_amount.sort_values('ContractAmount', ascending = False, inplace = True)"
   ]
  },
  {
   "cell_type": "code",
   "execution_count": 167,
   "metadata": {},
   "outputs": [
    {
     "name": "stdout",
     "output_type": "stream",
     "text": [
      "Total number of contracts going to 50 top vendors: 0.6361324096801438\n"
     ]
    }
   ],
   "source": [
    "# Contracts amount proportion of top 50 to all \n",
    "proportion = vendor_amount['ContractAmount'][:50].sum()/vendor_amount['ContractAmount'].sum()\n",
    "print (\"Total number of contracts going to 50 top vendors: \" + str(proportion))\n",
    "new_df = vendor_amount.reset_index() \n"
   ]
  },
  {
   "cell_type": "code",
   "execution_count": 168,
   "metadata": {},
   "outputs": [
    {
     "name": "stderr",
     "output_type": "stream",
     "text": [
      "/Applications/anaconda3/lib/python3.7/site-packages/ipykernel_launcher.py:4: FutureWarning: \n",
      ".ix is deprecated. Please use\n",
      ".loc for label based indexing or\n",
      ".iloc for positional indexing\n",
      "\n",
      "See the documentation here:\n",
      "http://pandas.pydata.org/pandas-docs/stable/user_guide/indexing.html#ix-indexer-is-deprecated\n",
      "  after removing the cwd from sys.path.\n"
     ]
    }
   ],
   "source": [
    "vendor = cleaned_df.groupby('VendorName')\n",
    "vendor_count = vendor.agg('count')\n",
    "vendor_count_2 = vendor_count.reset_index() \n",
    "list_vendors = vendor_count_2['VendorName'].ix[0:5]\n"
   ]
  },
  {
   "cell_type": "code",
   "execution_count": 169,
   "metadata": {},
   "outputs": [
    {
     "name": "stdout",
     "output_type": "stream",
     "text": [
      "<class 'int'>\n",
      "The ratio of the highest contract amount to the second highest is: 1.0503014505578652\n"
     ]
    }
   ],
   "source": [
    "# Compute ratio of the highest contract amount to the second highest\n",
    "index = []\n",
    "for l in list_vendors:\n",
    "    index.append(int(new_df[new_df['VendorName'] == str(l)].index.values))\n",
    "#index = (int(new_df[new_df['VendorName']=='Dell Marketing LP'].index.values))\n",
    "print(type(index[0]))\n",
    "ContractAmount = []\n",
    "contract = []\n",
    "mean_ContractAmount_contract = []\n",
    "for ix in index:\n",
    "    ContractAmount.append(new_df['ContractAmount'][ix])\n",
    "for i in range(5):\n",
    "    contract.append(vendor_count_2.iloc[i].iloc[1])\n",
    "mean_ContractAmount_per_contract = list(map(truediv, ContractAmount, contract))\n",
    "mean_ContractAmount_per_contract.sort(reverse = True) #= sorted(mean_ContractAmount_per_contract,key=float) \n",
    "ratio = mean_ContractAmount_per_contract[0]/mean_ContractAmount_per_contract[1]\n",
    "print (\"The ratio of the highest contract amount to the second highest is: \" + str(ratio))"
   ]
  },
  {
   "cell_type": "code",
   "execution_count": 170,
   "metadata": {},
   "outputs": [
    {
     "name": "stdout",
     "output_type": "stream",
     "text": [
      "7907324507.759999\n",
      "8144287025.61\n",
      "236962517.85000002\n",
      "34.369515902786894\n",
      "The ratio of total expenditures awarded to the ones obtained by NY vendors: 34.369515902786894\n"
     ]
    },
    {
     "name": "stderr",
     "output_type": "stream",
     "text": [
      "/Applications/anaconda3/lib/python3.7/site-packages/ipykernel_launcher.py:37: SettingWithCopyWarning: \n",
      "A value is trying to be set on a copy of a slice from a DataFrame.\n",
      "Try using .loc[row_indexer,col_indexer] = value instead\n",
      "\n",
      "See the caveats in the documentation: http://pandas.pydata.org/pandas-docs/stable/user_guide/indexing.html#returning-a-view-versus-a-copy\n"
     ]
    }
   ],
   "source": [
    "# Compute total expenditures awarded to the ones obtained by NY vendors\n",
    "\n",
    "# Time boundaries\n",
    "start_date = \"2018-01-01\"\n",
    "end_date = \"2018-12-31\"\n",
    "# Filter data by dates\n",
    "after_start_date = cleaned_df[\"StartDate\"] >= start_date \n",
    "before_end_date  = cleaned_df[\"StartDate\"] <= end_date\n",
    "inbetween        = after_start_date & before_end_date\n",
    "filtered_df   = cleaned_df.loc[inbetween]\n",
    "cleaned_expenditure_df = filtered_df \n",
    "url = 'https://www.health.ny.gov/statistics/cancer/registry/appendix/neighborhoods.htm'\n",
    "NYC_zip = pd.io.html.read_html(url)\n",
    "NYC_zip_df = NYC_zip[0]\n",
    "split_list =[]\n",
    "zip_list =[]\n",
    "\n",
    "for row in NYC_zip_df['ZIP Codes']:\n",
    "    split_list=row.split(',')\n",
    "    for zip in split_list:\n",
    "        zip_list.append(zip)\n",
    "\n",
    "var = []\n",
    "for zipped in cleaned_expenditure_df['VendorAddress'].str.split(',')[:]:  \n",
    "    var.append(zipped[-1])  \n",
    "          \n",
    "bla_M = [False] * len(cleaned_expenditure_df['VendorAddress'])\n",
    "result_M = np.array(bla_M)\n",
    "\n",
    "for zip in zip_list:\n",
    "    matched_zip_df = cleaned_expenditure_df['VendorAddress'].str.contains(r'\\b{}\\b'.format(zip))\n",
    "    matched_zip_df = np.array(matched_zip_df)\n",
    "    y=any(matched_zip_df.tolist())\n",
    "    if  y:\n",
    "        result_M = matched_zip_df | result_M\n",
    "        \n",
    "cleaned_expenditure_df['VendorAddress'] = result_M   \n",
    "NYC_filtered = cleaned_expenditure_df.where(cleaned_expenditure_df['VendorAddress'] == True, other=np.nan)\n",
    "total_award = total_expenditure['ContractAmount'][:].sum()\n",
    "NYC_award = NYC_filtered ['ContractAmount'][:].sum()\n",
    "outside_NYC = total_award - NYC_award \n",
    " \n",
    "print(outside_NYC)    \n",
    "print(total_award)\n",
    "print(NYC_award)\n",
    "award_proportion = total_award/NYC_award\n",
    "print(award_proportion)\n",
    "print (\"The ratio of total expenditures awarded to the ones obtained by NY vendors: \" + str(award_proportion))"
   ]
  }
 ],
 "metadata": {
  "kernelspec": {
   "display_name": "Python 3",
   "language": "python",
   "name": "python3"
  },
  "language_info": {
   "codemirror_mode": {
    "name": "ipython",
    "version": 3
   },
   "file_extension": ".py",
   "mimetype": "text/x-python",
   "name": "python",
   "nbconvert_exporter": "python",
   "pygments_lexer": "ipython3",
   "version": "3.7.4"
  }
 },
 "nbformat": 4,
 "nbformat_minor": 2
}
